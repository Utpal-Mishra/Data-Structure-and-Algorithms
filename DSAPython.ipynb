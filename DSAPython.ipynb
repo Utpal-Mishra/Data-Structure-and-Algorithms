{
  "nbformat": 4,
  "nbformat_minor": 0,
  "metadata": {
    "colab": {
      "name": "DSAPython.ipynb",
      "provenance": [],
      "collapsed_sections": [],
      "authorship_tag": "ABX9TyNCvakzTF+Lm0Nj4+Du4wVE",
      "include_colab_link": true
    },
    "kernelspec": {
      "name": "python3",
      "display_name": "Python 3"
    },
    "language_info": {
      "name": "python"
    }
  },
  "cells": [
    {
      "cell_type": "markdown",
      "metadata": {
        "id": "view-in-github",
        "colab_type": "text"
      },
      "source": [
        "<a href=\"https://colab.research.google.com/github/Utpal-Mishra/Data-Structure-and-Algorithms/blob/main/DSAPython.ipynb\" target=\"_parent\"><img src=\"https://colab.research.google.com/assets/colab-badge.svg\" alt=\"Open In Colab\"/></a>"
      ]
    },
    {
      "cell_type": "markdown",
      "source": [
        "#ARRAYS"
      ],
      "metadata": {
        "id": "8AN06ccM5VVe"
      }
    },
    {
      "cell_type": "markdown",
      "source": [
        "# LINKED LIST"
      ],
      "metadata": {
        "id": "zcYMPYjS5VYK"
      }
    },
    {
      "cell_type": "markdown",
      "source": [
        "# STACK"
      ],
      "metadata": {
        "id": "tDrgsT6C5Vbd"
      }
    },
    {
      "cell_type": "markdown",
      "source": [
        "# QUEUE"
      ],
      "metadata": {
        "id": "k8HFsctM5Vec"
      }
    },
    {
      "cell_type": "markdown",
      "source": [
        "# TREES"
      ],
      "metadata": {
        "id": "bZP_Rj4q5fws"
      }
    },
    {
      "cell_type": "markdown",
      "source": [
        "## Binary Tree (BST)"
      ],
      "metadata": {
        "id": "TvZu7wsm5j4S"
      }
    },
    {
      "cell_type": "markdown",
      "source": [
        "### Structure\n",
        "\n",
        "1. Non-Linear in Nature\n",
        "2. Unline Linear Data Strctures, Tree has a Hierarchial Structure\n",
        "3. Ordering Information is Not Important\n",
        "4. Nodes: Parent, Left and Right\n",
        "5. Terminologies: \n",
        "i. Root\n",
        "ii. Edge\n",
        "iii. Leaf\n",
        "iv. Depth\n",
        "v. Height\n",
        "vi. Height of Tree"
      ],
      "metadata": {
        "id": "Je1bo0m56WlM"
      }
    },
    {
      "cell_type": "markdown",
      "source": [
        "### Why To Use Trees\n",
        "\n",
        "1. Hierarchy Structure\n",
        "2. Quick Search Operations than Linked Lists but Slower than Arrays\n",
        "3. Insertion/ Deletion Quicker than Array, Slower than Unsorted Linked List\n",
        "4. Nodes are Linked Using Pointers, and does not have any Upper Limit like Linked Lists and Unlike Arrays"
      ],
      "metadata": {
        "id": "oED9qY0LOyCq"
      }
    },
    {
      "cell_type": "markdown",
      "source": [
        "### Main Application\n",
        "\n",
        "1. Manipulate Hierarchial Data\n",
        "2. Easy to Search\n",
        "3. Manipulate Sorted Lists of Data\n",
        "4. Router Algorithm\n",
        "5. Multi-Stage Decision Making"
      ],
      "metadata": {
        "id": "nVyfwJB1RDgA"
      }
    },
    {
      "cell_type": "markdown",
      "source": [
        "### Binary Tree (BST)\n",
        "\n",
        "1. A Tree with 2 Children\n",
        "2. Typically, named as LEFT and RIGHT CHILD\n",
        "\n",
        "### Binary Tree Representation (BST)\n",
        "1. A Tree is represented by a Pointer to the TOPMOST NODE of the Tree\n",
        "2. If Tree is Empty, then the Value of ROOT is NULL\n",
        "\n",
        "A TREE NODE Contains:\n",
        "1. Data\n",
        "2. Pointer to Left Child\n",
        "3. Pointer to Right Child"
      ],
      "metadata": {
        "id": "EvNVMvSv6ZWv"
      }
    },
    {
      "cell_type": "code",
      "source": [
        "# NODE\n",
        "\n",
        "class Node:\n",
        "  def __init__ (self, val):\n",
        "    self.left = left\n",
        "    self.right = right\n",
        "    self.val = value"
      ],
      "metadata": {
        "id": "TAjA58XCzW6T"
      },
      "execution_count": null,
      "outputs": []
    },
    {
      "cell_type": "markdown",
      "source": [
        "BASIC OPERATION ON BINARY TREE\n",
        "1. Insertion\n",
        "2. Removal\n",
        "3. Search\n",
        "4. Traversal\n",
        "\n",
        "AUXILIARY OPERATION ON BINARY TREE\n",
        "1. Finding the Height of Tree\n",
        "2. Find Level of Tree\n",
        "3. Finding the Size of Entire Tree\n",
        "\n",
        "APPLICATIONS OF BINARY TREE\n",
        "1. In compilers, Expression Tree are used which are application of binary tree\n",
        "2. Huffman Coding Trees are used in Data Compression Algorithm\n",
        "3. Priorty Queue is another Application of Binary Tree that is used for Searching Maximum or Minimum in O(1) Time Complexity\n",
        "\n",
        "BINARY TREE TRAVERSALS\n",
        "1. PreOrder Traversal: Traversal is: Root - Left Child - Right Child\n",
        "2. InOrder Traversal: Traversal is: Left Child - Root - Right Child\n",
        "3. PostOrder Traversal: Traversal is: Left Child - Right Child - Root"
      ],
      "metadata": {
        "id": "5WDdG9Jbzsmx"
      }
    },
    {
      "cell_type": "code",
      "source": [
        "class Node:\n",
        "  def __init__(self, val):\n",
        "    self.left = None\n",
        "    self.right = None\n",
        "    self.val = val\n",
        "\n",
        "if __name__ == '__main__':\n",
        "  root = Node(1)\n",
        "  root.left = Node(2)\n",
        "  root.right = Node(3)\n",
        "  root.left.left = Node(4)"
      ],
      "metadata": {
        "id": "HNQ7-PdJ0MGi"
      },
      "execution_count": null,
      "outputs": []
    },
    {
      "cell_type": "markdown",
      "source": [
        "PROPERTIES\n",
        "\n",
        "1. The Max. No. of Nodes at Level 'l' of a Binary Tree: 2^l\n",
        "2. Max. No. of Binary Tree at Height 'h' is 2^h - 1\n",
        "3. In a Binary Tree with N Nodes, Minimum Possible Height or the Minimum Number Of Levels is Log2(N+1)\n",
        "4. A Binary Tree with L Leaves has at least | Log2(L) | + 1 Levels\n",
        "5. In Binary Tree where Every Node has 0 or 2 Children, the No.of Leaf Nodes is Always One More than Nodes with Two Children\n",
        "6. In a non-empty binary tree if, \n",
        "   n is the Total No.of Nodes and \n",
        "   e is the Total No.of Edges, e = n - 1\n",
        "\n",
        "TYPES OF BINART TREE\n",
        "1. Full Binary Tree: 0 or 2 Children\n",
        "2. Complete Binary Tree: Completely Filled Except Possibly the Last Level (Last Level has all Keys as Left as Possible)\n",
        "3. Perfect Binary Tree: 2 Children\n",
        "4. Balanced Binary Tree (Insersion/ Deletion: O(Log n)): if Height is O(Log n). For Example, AVL Tree maintains O(Log n) height by making Difference between the heights of the Left and Right Subtrees is Atmost 1. Red-Black tree maintains O(Log n) height by No.of Black Nodes on Every Root to Leaf Paths Same and there are No Adjacent Red Nodes.   \n",
        "5. A Degenerate or Pathological Tree: 1 Child\n",
        "6. Skewed Binary Tree: Degenerate Tree Dominated by Either Strict Left Nodes or Strict Right Nodes"
      ],
      "metadata": {
        "id": "u56CZ_KQAxNE"
      }
    },
    {
      "cell_type": "markdown",
      "source": [
        "> HANDSHAKING LEMMA and INTERESTING TREE PROPERTIES\n",
        "\n",
        " 1. It is about Undirected Graph. In every finite undirected graph, an even number of vertices will always have an odd degree.\n",
        " 2. It is consequence of the Degree Sum Formula (also called as Handshaking Lemma): 2|E|\n",
        "\n",
        "> HOW IS HANDSHAKING LEMMA USEFUL IN TREE DATA STRUCTURE?\n",
        "\n",
        "1. In a k-ary tree where every node has either 0 or k children, the following property is always true.\n",
        "\n",
        "Case 1: Root is Leaf\n",
        "\n",
        "Case 2: Root is Internal Node: For trees with more than 1 node, the root is always an Internal Node. A TREE IS AN UNDIRECTED ACYCLIC GRAPH\n",
        "\n",
        "**TOTAL NO. OF EDGES IN TREE IS NO.OF NODES MINUS 1 i.e., |E|  = L + I - 1**\n",
        "\n",
        "**DEGREE OF ROOT: k**\n",
        "\n",
        "**DEGREE OF INTERNAL NODES: k+1**\n",
        "\n",
        "**SUM OF ALL DEGREE = 2*(SUM OF EDGES)**\n",
        "\n",
        "Sum of degrees of nodes with two children except root + Sum of degrees of nodes with one child + Sum of degrees of leaves + Root's degree = 2 * (No. of Nodes - 1) ----- (T-1)*3 + S*2 + L + 2 = (S + T + L - 1)*2\n",
        "\n",
        "2. In a Binary Tree, the number of leaf nodes is always one more than nodes with two children.\n",
        "\n",
        "Case 1: There is only one node.\n",
        "\n",
        "Case 2: Root has Two Children i.e., the degree of the root is 2.\n",
        "\n",
        "Sum of degrees of nodes with two children + Sum of degrees of nodes with one child except root + Sum of degrees of leaves + Root's degree = 2 * (No. of Nodes - 1) ----- T*3 + (S-1)*2 + L + 1 = (S + T + L - 1)*2\n",
        "\n",
        "Case 3: Root has One Child i.e., the degree of the root is 1.\n",
        "\n",
        "Sum of degrees of nodes with two children + Sum of degrees of nodes with one child except root + Sum of degrees of leaves + Root's degree = 2 * (No. of Nodes - 1) ----- T*3 + (S-1)*2 + L + 1 = (S + T + L - 1)*2"
      ],
      "metadata": {
        "id": "Fws1WpVJK2e6"
      }
    },
    {
      "cell_type": "markdown",
      "source": [
        "**DIAMETER OF A BINARY TREE**\n",
        "\n",
        "Diameter (Width) is defined as the no.of nodes in the longest path between two end nodes."
      ],
      "metadata": {
        "id": "2MgnA8gSB5Vf"
      }
    },
    {
      "cell_type": "code",
      "source": [
        "class Node:\n",
        "  def __init__(self, val):\n",
        "    self.left = None\n",
        "    self.right = None\n",
        "    self.val = val\n",
        "\n",
        "def height(node):\n",
        "  if node is None:\n",
        "    return 0\n",
        "  \n",
        "  return 1 + max(height(node.left), height(node.right))\n",
        "\n",
        "    \n",
        "def diameter(root):\n",
        "  if root is None:\n",
        "    return 0\n",
        "\n",
        "  lheight = height(root.left)\n",
        "  rheight = height(root.right)\n",
        "\n",
        "  ldiameter = diameter(root.left)\n",
        "  rdiameter = diameter(root.right)\n",
        "\n",
        "  return max(lheight + rheight + 1, max(ldiameter, rdiameter))\n",
        "\n",
        "if __name__ == \"__main__\":\n",
        "\n",
        "  root = Node(1)\n",
        "  root.left = Node(2)\n",
        "  root.right = Node(3)\n",
        "  root.left.left = Node(4)\n",
        "  root.left.right = Node(5)\n",
        "\n",
        "  print(\"Diameter of Tree: \", diameter(root))\n",
        "\n",
        "# Time Complexity: O(n2)\n",
        "# Auxiliary Space: O(n)"
      ],
      "metadata": {
        "colab": {
          "base_uri": "https://localhost:8080/"
        },
        "id": "2dGOu-f4CQOM",
        "outputId": "b3f27fa2-51c2-4c19-c427-e1de795b03cb"
      },
      "execution_count": null,
      "outputs": [
        {
          "output_type": "stream",
          "name": "stdout",
          "text": [
            "Diameter of Tree:  4\n"
          ]
        }
      ]
    },
    {
      "cell_type": "markdown",
      "source": [
        "ENUMERATE OF BINARY TREE\n",
        "\n",
        "1. A Binary Tree is LABELED if, every node is assigned a Label.\n",
        "2. Binary Tree is Unlabelled if, nodes are not assigned any Label."
      ],
      "metadata": {
        "id": "e9HGpZ3QXiDp"
      }
    },
    {
      "cell_type": "markdown",
      "source": [
        "Q. How many different Unlabelled Binary Trees can be there with n nodes?\n",
        "\n",
        "A. The Pattern Follows: nth Catalan Numbers: 1 1 2 5 14 42 132 419....\n",
        "   \n",
        "   Formula: (2n)!/(n+1)!n!"
      ],
      "metadata": {
        "id": "8Xj1fECNX__C"
      }
    },
    {
      "cell_type": "markdown",
      "source": [
        "Q. How many different Labelled Binary Trees can be there with n nodes?\n",
        "\n",
        "A. Number of Labelled Trees = (Number of unlabelled trees) * n!\n",
        "Formula: [(2n)! / (n+1)!n!]  × n!"
      ],
      "metadata": {
        "id": "V06cA2VjYu-D"
      }
    },
    {
      "cell_type": "markdown",
      "source": [
        "### Insertion"
      ],
      "metadata": {
        "id": "VuYO4HNbYzFj"
      }
    },
    {
      "cell_type": "code",
      "source": [
        "class Node():\n",
        "  def __init__(self, data):\n",
        "    self.data = data\n",
        "    self.left = None\n",
        "    self.right = None\n",
        "\n",
        "def inorder(temp):\n",
        "  if not temp:\n",
        "    return \n",
        "\n",
        "  inorder(temp.left)\n",
        "  \n",
        "  print(temp.data, end = ' ')\n",
        "  inorder(temp.right)\n",
        "\n",
        "def insert(temp, data):\n",
        "  if not temp:\n",
        "    root = Node(data)\n",
        "\n",
        "  tree = []\n",
        "  tree.append(temp)\n",
        "\n",
        "  while(len(tree)):\n",
        "    temp = tree[0]\n",
        "    tree.pop(0)\n",
        "\n",
        "    if not temp.left:\n",
        "      temp.left = Node(data)\n",
        "      break\n",
        "    else:\n",
        "      tree.append(temp.left)\n",
        "\n",
        "    if not temp.right:\n",
        "      temp.right = Node(data)\n",
        "      break\n",
        "    else:\n",
        "      tree.append(temp.right)\n",
        "\n",
        "if __name__ == \"__main__\":\n",
        "\n",
        "  root = Node(10)\n",
        "  root.left = Node(11)\n",
        "  root.right = Node(9)\n",
        "  root.left.left = Node(7)\n",
        "  root.right.left = Node(15)\n",
        "  root.right.right = Node(8)\n",
        "\n",
        "  print(\"Inorder traversal before insertion:\", end = \" \")\n",
        "  inorder(root)\n",
        "\n",
        "  insert(root, 12)\n",
        "\n",
        "  print()\n",
        "  print(\"Inorder traversal after insertion: \", end = \" \")\n",
        "  inorder(root)\n",
        "\n",
        "\n",
        "# Time Complexity: O(n)\n",
        "# Auxiliary Space: O(B) --- B: Width of the Tree"
      ],
      "metadata": {
        "colab": {
          "base_uri": "https://localhost:8080/"
        },
        "id": "PJ3CRv3GddNh",
        "outputId": "d613e689-a882-4d4b-c390-b2ecf5dee795"
      },
      "execution_count": null,
      "outputs": [
        {
          "output_type": "stream",
          "name": "stdout",
          "text": [
            "Inorder traversal before insertion: 7 11 10 15 9 8 \n",
            "Inorder traversal after insertion:  7 11 12 10 15 9 8 "
          ]
        }
      ]
    },
    {
      "cell_type": "markdown",
      "metadata": {
        "id": "gSA2DsOhYeqN"
      },
      "source": [
        "# Heap\n",
        "\n"
      ]
    },
    {
      "cell_type": "code",
      "metadata": {
        "id": "6PBtwimlcbjy"
      },
      "source": [
        "Python Program to Implement Binary Heap\n",
        "Python Program to Implement Binomial Tree\n",
        "Python Program to Implement Binomial Heap\n",
        "Python Program to Implement Fibonacci Heap\n",
        "Python Program to Implement Ternary Heap\n",
        "Python Program to Implement D-ary-Heap"
      ],
      "execution_count": null,
      "outputs": []
    },
    {
      "cell_type": "markdown",
      "source": [
        ""
      ],
      "metadata": {
        "id": "QAMQqdAd9P6d"
      }
    },
    {
      "cell_type": "markdown",
      "source": [
        "## Construct (From Array)\n",
        "\n",
        "LOGIC\n",
        "1. Root Node is at 0th Index of the Array\n",
        "2. Left Child of ith Node is at (2*i + 1) Index\n",
        "3. Right Child of ith Node is at (2*i + 2) Index\n",
        "4. Parent of ith Node is at i-1/2 Index\n",
        "5. Last non-Leaf Node is Parent of Node at (n-1)th Index\n",
        "\n",
        "TIME COMPLEXITY\n",
        "1. Heapify of Single Node: O(LogN)\n",
        "2. To Build, we need N Heapify Operations\n",
        "3. Total Time Complexity: O(N*LogN)"
      ],
      "metadata": {
        "id": "BbJt_Ket9Sg4"
      }
    },
    {
      "cell_type": "markdown",
      "metadata": {
        "id": "85Do9Bz0YfuT"
      },
      "source": [
        "# Graphs\n",
        "\n",
        "https://www.sanfoundry.com/python-programming-examples-graphs/"
      ]
    },
    {
      "cell_type": "markdown",
      "metadata": {
        "id": "UVx_It12YiBk"
      },
      "source": [
        "# Games\n",
        "\n",
        "\n"
      ]
    },
    {
      "cell_type": "code",
      "metadata": {
        "id": "rKvSRp_9cdW-"
      },
      "source": [
        "Python Program to Implement Tower of Hanoi\n",
        "Python Program to Solve n-Queen Problem without Recursion\n",
        "Python Program to Solve the Celebrity Problem\n",
        "Python Program to Solve n-Queen Problem with Recursion"
      ],
      "execution_count": null,
      "outputs": []
    },
    {
      "cell_type": "markdown",
      "metadata": {
        "id": "ePSdkjIhYlZs"
      },
      "source": [
        "# Greedy Algorithms\n",
        "\n"
      ]
    },
    {
      "cell_type": "code",
      "metadata": {
        "id": "IV8mV6o5cfQ0"
      },
      "source": [
        "Python Program to Solve Fractional Knapsack Problem using Greedy Algorithm\n",
        "Python Program to Solve Interval Scheduling Problem using Greedy Algorithm\n",
        "Python Program to Find the Smallest Set of Unit-Length Closed Intervals that Contains All Points using Greedy Algorithm\n",
        "Python Program to Minimize Lateness using Greedy Algorithm"
      ],
      "execution_count": null,
      "outputs": []
    },
    {
      "cell_type": "markdown",
      "metadata": {
        "id": "EYR4v8iYYsAo"
      },
      "source": [
        "# Dynamic Programming\n",
        "\n",
        "\n"
      ]
    },
    {
      "cell_type": "markdown",
      "source": [
        "### Levenshtein Distance"
      ],
      "metadata": {
        "id": "eI3PiACrru36"
      }
    },
    {
      "cell_type": "code",
      "source": [
        "def levD(m, n):\n",
        "  for i in range(max(len(m), len(n))):\n",
        "    #print(\"\\nPosition: \", i, len(m)-1, len(n)-1)\n",
        "\n",
        "    if i > len(m)-1 and i <= len(n)-1:\n",
        "      #print(\"Case 1\")\n",
        "      print(\"Insert/ Delete: {}\".format(n[i]))\n",
        "      continue\n",
        "    if i > len(n)-1 and i <= len(m) - 1:\n",
        "      #print(\"Case 2\")\n",
        "      print(\"Insert/ Delete: {}\".format(m[i])) \n",
        "      continue\n",
        "    if i <= len(m)-1 and i <= len(n)-1:\n",
        "      #print(\"Case 3\")\n",
        "      #print(m[i], n[i])\n",
        "      if m[i] != n[i]:\n",
        "        print(\"Substitute    : {}::{}\".format(m[i], n[i]))\n",
        "        continue"
      ],
      "metadata": {
        "id": "PwIj9lZlsWjx"
      },
      "execution_count": 93,
      "outputs": []
    },
    {
      "cell_type": "code",
      "source": [
        "def main():\n",
        "  m, n = [i for i in input(\"Enter Two Words: \").split()]\n",
        "  print(\"\\nString 1: {} \\nString 2: {}\".format(m, n))\n",
        "  print(\"\\nLength of String 1: {} \\nLength of String 2: {}\".format(len(m), len(n)))\n",
        "  print(\"\\nCommon Characters   : {} :: Count: {}\".format(set(m) & set(n), len(set(m) & set(n))))\n",
        "\n",
        "  if len(m) > len(n):\n",
        "    print(\"Different Characters: {} :: Count: {}\".format(set(m) - set(n), len(set(m) - set(n))))\n",
        "  else:\n",
        "    print(\"Different Characters: {} :: Count: {}\".format(set(n) - set(m), len(set(n) - set(m))))\n",
        "\n",
        "  print()\n",
        "  levD(m, n)\n",
        "\n",
        "if __name__ == \"__main__\":\n",
        "  main()"
      ],
      "metadata": {
        "colab": {
          "base_uri": "https://localhost:8080/"
        },
        "id": "7pEWxDaZrz6C",
        "outputId": "c4b3a11a-26ac-4e70-f435-59e006d5670f"
      },
      "execution_count": 95,
      "outputs": [
        {
          "output_type": "stream",
          "name": "stdout",
          "text": [
            "Enter Two Words: kitten sitting\n",
            "\n",
            "String 1: kitten \n",
            "String 2: sitting\n",
            "\n",
            "Length of String 1: 6 \n",
            "Length of String 2: 7\n",
            "\n",
            "Common Characters   : {'n', 'i', 't'} :: Count: 3\n",
            "Different Characters: {'g', 's'} :: Count: 2\n",
            "\n",
            "Substitute    : k::s\n",
            "Substitute    : e::i\n",
            "Insert/ Delete: g\n"
          ]
        }
      ]
    },
    {
      "cell_type": "code",
      "metadata": {
        "id": "cSDaTJe1chR0"
      },
      "source": [
        "Python Program to Solve Rod Cutting Problem using Dynamic Programming with Memoization\n",
        "Python Program to Solve Rod Cutting Problem using Dynamic Programming with Bottom-Up Approach\n",
        "Python Program to Print nth Fibonacci Number using Dynamic Programming with Memoization\n",
        "Python Program to Print nth Fibonacci Number using Dynamic Programming with Bottom-Up Approach\n",
        "Python Program to Solve Matrix-Chain Multiplication using Dynamic Programming with Memoization\n",
        "Python Program to Solve Matrix-Chain Multiplication using Dynamic Programming with Bottom-Up Approach\n",
        "Python Program to Find Longest Common Subsequence using Dynamic Programming with Memoization\n",
        "Python Program to Find Longest Common Subsequence using Dynamic Programming with Bottom-Up Approach\n",
        "Python Program to Find Longest Common Substring using Dynamic Programming with Memoization\n",
        "Python Program to Find Longest Common Substring using Dynamic Programming with Bottom-Up Approach\n",
        "Python Program to Solve 0-1 Knapsack Problem using Dynamic Programming with Bottom-Up Approach\n",
        "Python Program to Solve 0-1 Knapsack Problem using Dynamic Programming with Memoization\n",
        "Python Program to Count all Paths in a Grid with Holes using Dynamic Programming with Memoization\n",
        "Python Program to Count all Paths in a Grid with Holes using Dynamic Programming with Bottom-Up Approach"
      ],
      "execution_count": null,
      "outputs": []
    }
  ]
}