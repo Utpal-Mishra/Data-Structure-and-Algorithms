{
  "nbformat": 4,
  "nbformat_minor": 0,
  "metadata": {
    "colab": {
      "name": "DSAPython.ipynb",
      "provenance": [],
      "authorship_tag": "ABX9TyN4a9OzjPvFYCefzVGXemvq",
      "include_colab_link": true
    },
    "kernelspec": {
      "name": "python3",
      "display_name": "Python 3"
    },
    "language_info": {
      "name": "python"
    }
  },
  "cells": [
    {
      "cell_type": "markdown",
      "metadata": {
        "id": "view-in-github",
        "colab_type": "text"
      },
      "source": [
        "<a href=\"https://colab.research.google.com/github/Utpal-Mishra/Data-Structure-and-Algorithms/blob/main/DSAPython.ipynb\" target=\"_parent\"><img src=\"https://colab.research.google.com/assets/colab-badge.svg\" alt=\"Open In Colab\"/></a>"
      ]
    },
    {
      "cell_type": "markdown",
      "source": [
        "#ARRAYS"
      ],
      "metadata": {
        "id": "8AN06ccM5VVe"
      }
    },
    {
      "cell_type": "markdown",
      "source": [
        "# LINKED LIST"
      ],
      "metadata": {
        "id": "zcYMPYjS5VYK"
      }
    },
    {
      "cell_type": "markdown",
      "source": [
        "# STACK"
      ],
      "metadata": {
        "id": "tDrgsT6C5Vbd"
      }
    },
    {
      "cell_type": "markdown",
      "source": [
        "# QUEUE"
      ],
      "metadata": {
        "id": "k8HFsctM5Vec"
      }
    },
    {
      "cell_type": "markdown",
      "source": [
        "# TREES"
      ],
      "metadata": {
        "id": "bZP_Rj4q5fws"
      }
    },
    {
      "cell_type": "markdown",
      "source": [
        "## Binary Tree (BST)"
      ],
      "metadata": {
        "id": "TvZu7wsm5j4S"
      }
    },
    {
      "cell_type": "markdown",
      "source": [
        "### Structure\n",
        "\n",
        "1. Non-Linear in Nature\n",
        "2. Unline Linear Data Strctures, Tree has a Hierarchial Structure\n",
        "3. Ordering Information is Not Important\n",
        "4. Nodes: Parent, Left and Right\n",
        "5. Terminologies: \n",
        "i. Root\n",
        "ii. Edge\n",
        "iii. Leaf\n",
        "iv. Depth\n",
        "v. Height\n",
        "vi. Height of Tree"
      ],
      "metadata": {
        "id": "Je1bo0m56WlM"
      }
    },
    {
      "cell_type": "markdown",
      "source": [
        "### Why To Use Trees\n",
        "\n",
        "1. Hierarchy Structure\n",
        "2. Quick Search Operations than Linksed Lists but Slower than Arrays\n",
        "3. Insertion/ Deletion Quicker than Array, Slower than Unsorted Linked List\n",
        "4. Nodes are Linked Using Pointers, and doesnot have any Upper Limit like Linked Lists and Unlike Arrays"
      ],
      "metadata": {
        "id": "oED9qY0LOyCq"
      }
    },
    {
      "cell_type": "markdown",
      "source": [
        "### Main Application\n",
        "\n",
        "1. Manipulate Hierarchial Data\n",
        "2. Easy to Search\n",
        "3. Manipulate Sorted Lists of Data\n",
        "4. Router Algorithm\n",
        "5. Multi-Stage Decision Making"
      ],
      "metadata": {
        "id": "nVyfwJB1RDgA"
      }
    },
    {
      "cell_type": "markdown",
      "source": [
        ""
      ],
      "metadata": {
        "id": "EvNVMvSv6ZWv"
      }
    },
    {
      "cell_type": "code",
      "source": [
        ""
      ],
      "metadata": {
        "id": "TAjA58XCzW6T"
      },
      "execution_count": null,
      "outputs": []
    },
    {
      "cell_type": "code",
      "source": [
        ""
      ],
      "metadata": {
        "colab": {
          "base_uri": "https://localhost:8080/"
        },
        "id": "HNQ7-PdJ0MGi",
        "outputId": "e03b3028-9b9b-4de8-ea6f-e19026b35052"
      },
      "execution_count": null,
      "outputs": [
        {
          "output_type": "execute_result",
          "data": {
            "text/plain": [
              "<__main__.BST at 0x7f154bb99ad0>"
            ]
          },
          "metadata": {},
          "execution_count": 15
        }
      ]
    },
    {
      "cell_type": "markdown",
      "metadata": {
        "id": "gSA2DsOhYeqN"
      },
      "source": [
        "# Heap\n",
        "\n"
      ]
    },
    {
      "cell_type": "code",
      "metadata": {
        "id": "6PBtwimlcbjy"
      },
      "source": [
        "Python Program to Implement Binary Heap\n",
        "Python Program to Implement Binomial Tree\n",
        "Python Program to Implement Binomial Heap\n",
        "Python Program to Implement Fibonacci Heap\n",
        "Python Program to Implement Ternary Heap\n",
        "Python Program to Implement D-ary-Heap"
      ],
      "execution_count": null,
      "outputs": []
    },
    {
      "cell_type": "markdown",
      "source": [
        ""
      ],
      "metadata": {
        "id": "QAMQqdAd9P6d"
      }
    },
    {
      "cell_type": "markdown",
      "source": [
        "## Construct (From Array)\n",
        "\n",
        "LOGIC\n",
        "1. Root Node is at 0th Index of the Array\n",
        "2. Left Child of ith Node is at (2*i + 1) Index\n",
        "3. Right Child of ith Node is at (2*i + 2) Index\n",
        "4. Parent of ith Node is at i-1/2 Index\n",
        "5. Last non-Leaf Node is Parent of Node at (n-1)th Index\n",
        "\n",
        "TIME COMPLEXITY\n",
        "1. Heapify of Single Node: O(LogN)\n",
        "2. To Build, we need N Heapify Operations\n",
        "3. Total Time Complexity: O(N*LogN)"
      ],
      "metadata": {
        "id": "BbJt_Ket9Sg4"
      }
    },
    {
      "cell_type": "markdown",
      "metadata": {
        "id": "85Do9Bz0YfuT"
      },
      "source": [
        "# Graphs\n",
        "\n",
        "https://www.sanfoundry.com/python-programming-examples-graphs/"
      ]
    },
    {
      "cell_type": "markdown",
      "metadata": {
        "id": "UVx_It12YiBk"
      },
      "source": [
        "# Games\n",
        "\n",
        "\n"
      ]
    },
    {
      "cell_type": "code",
      "metadata": {
        "id": "rKvSRp_9cdW-"
      },
      "source": [
        "Python Program to Implement Tower of Hanoi\n",
        "Python Program to Solve n-Queen Problem without Recursion\n",
        "Python Program to Solve the Celebrity Problem\n",
        "Python Program to Solve n-Queen Problem with Recursion"
      ],
      "execution_count": null,
      "outputs": []
    },
    {
      "cell_type": "markdown",
      "metadata": {
        "id": "ePSdkjIhYlZs"
      },
      "source": [
        "# Greedy Algorithms\n",
        "\n"
      ]
    },
    {
      "cell_type": "code",
      "metadata": {
        "id": "IV8mV6o5cfQ0"
      },
      "source": [
        "Python Program to Solve Fractional Knapsack Problem using Greedy Algorithm\n",
        "Python Program to Solve Interval Scheduling Problem using Greedy Algorithm\n",
        "Python Program to Find the Smallest Set of Unit-Length Closed Intervals that Contains All Points using Greedy Algorithm\n",
        "Python Program to Minimize Lateness using Greedy Algorithm"
      ],
      "execution_count": null,
      "outputs": []
    },
    {
      "cell_type": "markdown",
      "metadata": {
        "id": "EYR4v8iYYsAo"
      },
      "source": [
        "# Dynamic Programming\n",
        "\n",
        "\n"
      ]
    },
    {
      "cell_type": "code",
      "metadata": {
        "id": "cSDaTJe1chR0"
      },
      "source": [
        "Python Program to Solve Rod Cutting Problem using Dynamic Programming with Memoization\n",
        "Python Program to Solve Rod Cutting Problem using Dynamic Programming with Bottom-Up Approach\n",
        "Python Program to Print nth Fibonacci Number using Dynamic Programming with Memoization\n",
        "Python Program to Print nth Fibonacci Number using Dynamic Programming with Bottom-Up Approach\n",
        "Python Program to Solve Matrix-Chain Multiplication using Dynamic Programming with Memoization\n",
        "Python Program to Solve Matrix-Chain Multiplication using Dynamic Programming with Bottom-Up Approach\n",
        "Python Program to Find Longest Common Subsequence using Dynamic Programming with Memoization\n",
        "Python Program to Find Longest Common Subsequence using Dynamic Programming with Bottom-Up Approach\n",
        "Python Program to Find Longest Common Substring using Dynamic Programming with Memoization\n",
        "Python Program to Find Longest Common Substring using Dynamic Programming with Bottom-Up Approach\n",
        "Python Program to Solve 0-1 Knapsack Problem using Dynamic Programming with Bottom-Up Approach\n",
        "Python Program to Solve 0-1 Knapsack Problem using Dynamic Programming with Memoization\n",
        "Python Program to Count all Paths in a Grid with Holes using Dynamic Programming with Memoization\n",
        "Python Program to Count all Paths in a Grid with Holes using Dynamic Programming with Bottom-Up Approach"
      ],
      "execution_count": null,
      "outputs": []
    }
  ]
}